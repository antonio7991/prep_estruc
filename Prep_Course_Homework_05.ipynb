{
 "cells": [
  {
   "attachments": {},
   "cell_type": "markdown",
   "metadata": {},
   "source": [
    "## Estructuras de Datos"
   ]
  },
  {
   "attachments": {},
   "cell_type": "markdown",
   "metadata": {},
   "source": [
    "1) Crear una lista que contenga nombres de ciudades del mundo que contenga más de 5 elementos e imprimir por pantalla"
   ]
  },
  {
   "cell_type": "code",
   "execution_count": 2,
   "metadata": {},
   "outputs": [
    {
     "name": "stdout",
     "output_type": "stream",
     "text": [
      "Lima\n",
      "Buenos aires\n",
      "Zurich\n",
      "Lisboa\n",
      "Tokio\n",
      "Berlin\n"
     ]
    }
   ],
   "source": [
    "mundo=[\"Lima\",\"Buenos aires\",\"Zurich\",\"Lisboa\",\"Tokio\",\"Berlin\"]\n",
    "\n",
    "for ciudades in mundo:\n",
    "    print(ciudades)"
   ]
  },
  {
   "attachments": {},
   "cell_type": "markdown",
   "metadata": {},
   "source": [
    "2) Imprimir por pantalla el segundo elemento de la lista"
   ]
  },
  {
   "cell_type": "code",
   "execution_count": 4,
   "metadata": {},
   "outputs": [
    {
     "name": "stdout",
     "output_type": "stream",
     "text": [
      "Buenos aires\n"
     ]
    }
   ],
   "source": [
    "print(mundo[1])"
   ]
  },
  {
   "attachments": {},
   "cell_type": "markdown",
   "metadata": {},
   "source": [
    "3) Imprimir por pantalla del segundo al cuarto elemento"
   ]
  },
  {
   "cell_type": "code",
   "execution_count": 6,
   "metadata": {},
   "outputs": [
    {
     "name": "stdout",
     "output_type": "stream",
     "text": [
      "Lisboa\n"
     ]
    }
   ],
   "source": [
    "print(mundo[3])"
   ]
  },
  {
   "attachments": {},
   "cell_type": "markdown",
   "metadata": {},
   "source": [
    "4) Visualizar el tipo de dato de la lista"
   ]
  },
  {
   "cell_type": "code",
   "execution_count": 7,
   "metadata": {},
   "outputs": [
    {
     "data": {
      "text/plain": [
       "list"
      ]
     },
     "execution_count": 7,
     "metadata": {},
     "output_type": "execute_result"
    }
   ],
   "source": [
    "type(mundo)"
   ]
  },
  {
   "attachments": {},
   "cell_type": "markdown",
   "metadata": {},
   "source": [
    "5) Visualizar todos los elementos de la lista a partir del tercero de manera genérica, es decir, sin explicitar la posición del último elemento"
   ]
  },
  {
   "cell_type": "code",
   "execution_count": 8,
   "metadata": {},
   "outputs": [
    {
     "name": "stdout",
     "output_type": "stream",
     "text": [
      "Zurich\n",
      "Lisboa\n",
      "Tokio\n",
      "Berlin\n"
     ]
    }
   ],
   "source": [
    "for generico in mundo[2:]:\n",
    "    print(generico)"
   ]
  },
  {
   "attachments": {},
   "cell_type": "markdown",
   "metadata": {},
   "source": [
    "6) Visualizar los primeros 4 elementos de la lista"
   ]
  },
  {
   "cell_type": "code",
   "execution_count": 11,
   "metadata": {},
   "outputs": [
    {
     "name": "stdout",
     "output_type": "stream",
     "text": [
      "Lima\n",
      "Buenos aires\n",
      "Zurich\n",
      "Lisboa\n"
     ]
    }
   ],
   "source": [
    "for generico_2 in mundo[:4]:\n",
    "    print(generico_2)"
   ]
  },
  {
   "attachments": {},
   "cell_type": "markdown",
   "metadata": {},
   "source": [
    "7) Agregar una ciudad más a la lista que ya exista y otra que no ¿Arroja algún tipo de error?"
   ]
  },
  {
   "cell_type": "code",
   "execution_count": 12,
   "metadata": {},
   "outputs": [
    {
     "name": "stdout",
     "output_type": "stream",
     "text": [
      "['Lima', 'Buenos aires', 'Zurich', 'Lisboa', 'Tokio', 'Berlin', 'Barcelona']\n"
     ]
    }
   ],
   "source": [
    "#agregar una ciudad mas a la lista que ya existe\n",
    "mundo.append(\"Barcelona\")\n",
    "print(mundo)"
   ]
  },
  {
   "attachments": {},
   "cell_type": "markdown",
   "metadata": {},
   "source": [
    "8) Agregar otra ciudad, pero en la cuarta posición"
   ]
  },
  {
   "cell_type": "code",
   "execution_count": 13,
   "metadata": {},
   "outputs": [
    {
     "name": "stdout",
     "output_type": "stream",
     "text": [
      "['Lima', 'Buenos aires', 'Zurich', 'Pekin', 'Lisboa', 'Tokio', 'Berlin', 'Barcelona']\n"
     ]
    }
   ],
   "source": [
    "ciudad_nueva=\"Pekin\"\n",
    "pos=3\n",
    "mundo.insert(pos,ciudad_nueva)\n",
    "print(mundo)"
   ]
  },
  {
   "attachments": {},
   "cell_type": "markdown",
   "metadata": {},
   "source": [
    "9) Concatenar otra lista a la ya creada"
   ]
  },
  {
   "cell_type": "code",
   "execution_count": 14,
   "metadata": {},
   "outputs": [
    {
     "name": "stdout",
     "output_type": "stream",
     "text": [
      "['Lima', 'Buenos aires', 'Zurich', 'Pekin', 'Lisboa', 'Tokio', 'Berlin', 'Barcelona', 'Lunes', 'Martes']\n"
     ]
    }
   ],
   "source": [
    "nueva_lista=[\"Lunes\",\"Martes\"]\n",
    "union=mundo+nueva_lista\n",
    "print(union)"
   ]
  },
  {
   "attachments": {},
   "cell_type": "markdown",
   "metadata": {},
   "source": [
    "10) Encontrar el índice de la ciudad que en el punto 7 agregamos duplicada. ¿Se nota alguna particularidad?"
   ]
  },
  {
   "cell_type": "code",
   "execution_count": 15,
   "metadata": {},
   "outputs": [
    {
     "name": "stdout",
     "output_type": "stream",
     "text": [
      "7\n"
     ]
    }
   ],
   "source": [
    "a=mundo.index(\"Barcelona\")\n",
    "print(a)"
   ]
  },
  {
   "attachments": {},
   "cell_type": "markdown",
   "metadata": {},
   "source": [
    "11) ¿Qué pasa si se busca un elemento que no existe?"
   ]
  },
  {
   "cell_type": "code",
   "execution_count": 19,
   "metadata": {},
   "outputs": [
    {
     "name": "stdout",
     "output_type": "stream",
     "text": [
      "No se encontró Roma en la lista\n"
     ]
    }
   ],
   "source": [
    "try:\n",
    "    indice=union.index(\"Roma\")\n",
    "    print(\"El indice de Roma es:\",indice)\n",
    "\n",
    "except ValueError:\n",
    "    print(\"No se encontró Roma en la lista\")"
   ]
  },
  {
   "attachments": {},
   "cell_type": "markdown",
   "metadata": {},
   "source": [
    "12) Eliminar un elemento de la lista"
   ]
  },
  {
   "cell_type": "code",
   "execution_count": 25,
   "metadata": {},
   "outputs": [
    {
     "name": "stdout",
     "output_type": "stream",
     "text": [
      "['Lima', 'Buenos aires', 'Zurich', 'Pekin', 'Lisboa', 'Barcelona', 'Lunes', 'Martes']\n"
     ]
    }
   ],
   "source": [
    "#usando remove (elimina la primera aparición)\n",
    "union.remove(\"Berlin\")\n",
    "print(union)\n",
    "\n"
   ]
  },
  {
   "attachments": {},
   "cell_type": "markdown",
   "metadata": {},
   "source": [
    "13) ¿Qué pasa si el elemento a eliminar no existe?"
   ]
  },
  {
   "cell_type": "code",
   "execution_count": 27,
   "metadata": {},
   "outputs": [
    {
     "name": "stdout",
     "output_type": "stream",
     "text": [
      "No se encontró Cali en la lista\n"
     ]
    }
   ],
   "source": [
    "try:   \n",
    "    union.remove(\"Cali\")\n",
    "    print(union)\n",
    "except ValueError:\n",
    "    print(\"No se encontró Cali en la lista\")"
   ]
  },
  {
   "attachments": {},
   "cell_type": "markdown",
   "metadata": {},
   "source": [
    "14) Extraer el úlimo elemento de la lista, guardarlo en una variable e imprimirlo"
   ]
  },
  {
   "cell_type": "code",
   "execution_count": 29,
   "metadata": {},
   "outputs": [
    {
     "name": "stdout",
     "output_type": "stream",
     "text": [
      "Martes\n"
     ]
    }
   ],
   "source": [
    "ex=union.pop()\n",
    "print(ex)"
   ]
  },
  {
   "attachments": {},
   "cell_type": "markdown",
   "metadata": {},
   "source": [
    "15) Mostrar la lista multiplicada por 4"
   ]
  },
  {
   "cell_type": "code",
   "execution_count": 30,
   "metadata": {},
   "outputs": [
    {
     "name": "stdout",
     "output_type": "stream",
     "text": [
      "['Lima', 'Buenos aires', 'Zurich', 'Pekin', 'Lisboa', 'Barcelona', 'Lunes', 'Lima', 'Buenos aires', 'Zurich', 'Pekin', 'Lisboa', 'Barcelona', 'Lunes', 'Lima', 'Buenos aires', 'Zurich', 'Pekin', 'Lisboa', 'Barcelona', 'Lunes', 'Lima', 'Buenos aires', 'Zurich', 'Pekin', 'Lisboa', 'Barcelona', 'Lunes']\n"
     ]
    }
   ],
   "source": [
    "lista_mul=union*4\n",
    "print(lista_mul)"
   ]
  },
  {
   "attachments": {},
   "cell_type": "markdown",
   "metadata": {},
   "source": [
    "16) Crear una tupla que contenga los números enteros del 1 al 20"
   ]
  },
  {
   "cell_type": "code",
   "execution_count": 31,
   "metadata": {},
   "outputs": [
    {
     "name": "stdout",
     "output_type": "stream",
     "text": [
      "(1, 2, 3, 4, 5, 6, 7, 8, 9, 10, 11, 12, 13, 14, 15, 16, 17, 18, 19, 20)\n"
     ]
    }
   ],
   "source": [
    "tupla_num=tuple(range(1,21))\n",
    "print(tupla_num)"
   ]
  },
  {
   "attachments": {},
   "cell_type": "markdown",
   "metadata": {},
   "source": [
    "17) Imprimir desde el índice 10 al 15 de la tupla"
   ]
  },
  {
   "cell_type": "code",
   "execution_count": 33,
   "metadata": {},
   "outputs": [
    {
     "name": "stdout",
     "output_type": "stream",
     "text": [
      "10\n",
      "11\n",
      "12\n",
      "13\n",
      "14\n"
     ]
    }
   ],
   "source": [
    "for numeros in tupla_num[9:14]:\n",
    "    print(numeros)"
   ]
  },
  {
   "attachments": {},
   "cell_type": "markdown",
   "metadata": {},
   "source": [
    "18) Evaluar si los números 20 y 30 están dentro de la tupla"
   ]
  },
  {
   "cell_type": "code",
   "execution_count": 35,
   "metadata": {},
   "outputs": [
    {
     "name": "stdout",
     "output_type": "stream",
     "text": [
      "El numero  20  esta en la tupla\n",
      "El numero  30  no esta en la tupla\n"
     ]
    }
   ],
   "source": [
    "num_1=20\n",
    "num_2=30\n",
    "\n",
    "if num_1 in tupla_num:\n",
    "    print(\"El numero \",num_1,\" esta en la tupla\")\n",
    "    \n",
    "else:\n",
    "    print(\"El numero \",num_1,\" no esta en la tupla\")\n",
    "\n",
    "\n",
    "if num_2 in tupla_num:\n",
    "    print(\"El numero \",num_2,\" esta en la tupla\")\n",
    "    \n",
    "else:\n",
    "    print(\"El numero \",num_2,\" no esta en la tupla\")\n",
    "\n",
    "\n"
   ]
  },
  {
   "attachments": {},
   "cell_type": "markdown",
   "metadata": {},
   "source": [
    "19) Con la lista creada en el punto 1, validar la existencia del elemento 'París' y si no existe, agregarlo. Utilizar una variable e informar lo sucedido."
   ]
  },
  {
   "cell_type": "code",
   "execution_count": 40,
   "metadata": {},
   "outputs": [
    {
     "name": "stdout",
     "output_type": "stream",
     "text": [
      "'Paris' estaba en la lista\n",
      "['Lima', 'Buenos aires', 'Zurich', 'Pekin', 'Lisboa', 'Tokio', 'Berlin', 'Barcelona', 'Paris']\n"
     ]
    }
   ],
   "source": [
    "busqueda=\"Paris\"\n",
    "if busqueda not in mundo:\n",
    "    mundo.append(busqueda)\n",
    "    mensaje=f\"'{busqueda}' no estaba en la lista,pero se ha agregado\"\n",
    "else:\n",
    "    mensaje=f\"'{busqueda}' estaba en la lista\"\n",
    "\n",
    "print(mensaje)\n",
    "print(mundo)"
   ]
  },
  {
   "attachments": {},
   "cell_type": "markdown",
   "metadata": {},
   "source": [
    "20) Mostrar la cantidad de veces que se encuentra un elemento específico dentro de la tupla y de la lista"
   ]
  },
  {
   "cell_type": "code",
   "execution_count": 43,
   "metadata": {},
   "outputs": [
    {
     "name": "stdout",
     "output_type": "stream",
     "text": [
      "El elemento 2 se encuentra  4 veces en la tupla\n",
      "El elemento 2 se encuentra 5 veces en la lista.\n"
     ]
    }
   ],
   "source": [
    "nueva_tupla=(2,4,5,6,3,34,5,43,2,21,2,4,5,3,45,2)\n",
    "elemento_buscar=2\n",
    "cant_tupla=nueva_tupla.count(elemento_buscar)\n",
    "print(f\"El elemento {elemento_buscar} se encuentra  {cant_tupla} veces en la tupla\")\n",
    "\n",
    "lista_numeros = [1, 2, 3, 4, 2, 5, 2, 6, 7, 2, 8, 2]\n",
    "elemento_a_contar = 2\n",
    "cantidad_en_lista = lista_numeros.count(elemento_a_contar)\n",
    "print(f\"El elemento {elemento_a_contar} se encuentra {cantidad_en_lista} veces en la lista.\")\n"
   ]
  },
  {
   "attachments": {},
   "cell_type": "markdown",
   "metadata": {},
   "source": [
    "21) Convertir la tupla en una lista"
   ]
  },
  {
   "cell_type": "code",
   "execution_count": 44,
   "metadata": {},
   "outputs": [
    {
     "name": "stdout",
     "output_type": "stream",
     "text": [
      "[2, 4, 5, 6, 3, 34, 5, 43, 2, 21, 2, 4, 5, 3, 45, 2]\n"
     ]
    }
   ],
   "source": [
    "lista_creada=list(nueva_tupla)\n",
    "print(lista_creada)"
   ]
  },
  {
   "attachments": {},
   "cell_type": "markdown",
   "metadata": {},
   "source": [
    "22) Desempaquetar solo los primeros 3 elementos de la tupla en 3 variables"
   ]
  },
  {
   "cell_type": "code",
   "execution_count": 53,
   "metadata": {},
   "outputs": [
    {
     "name": "stdout",
     "output_type": "stream",
     "text": [
      "var1: 2\n",
      "var2: 4\n",
      "var3: 5\n"
     ]
    }
   ],
   "source": [
    "nueva_tupla3 = (2, 4, 5, 6, 3, 34, 5, 43, 2, 21, 2, 4, 5, 3, 45, 2)\n",
    "\n",
    "v1, v2, v3= nueva_tupla3[:3]\n",
    "print(\"var1:\", v1)\n",
    "print(\"var2:\", v2)\n",
    "print(\"var3:\", v3)\n"
   ]
  },
  {
   "attachments": {},
   "cell_type": "markdown",
   "metadata": {},
   "source": [
    "23) Crear un diccionario utilizando la lista crada en el punto 1, asignandole la clave \"ciudad\". Agregar tambien otras claves, como puede ser \"Pais\" y \"Continente\"."
   ]
  },
  {
   "cell_type": "code",
   "execution_count": 58,
   "metadata": {},
   "outputs": [
    {
     "name": "stdout",
     "output_type": "stream",
     "text": [
      "{'Lima': {'Ciudad': 'Lima', 'Pais': 'Nombre pais', 'Continente': 'Nombre de continente'}, 'Buenos Aires': {'Ciudad': 'Buenos Aires', 'Pais': 'Nombre pais', 'Continente': 'Nombre de continente'}, 'Zurich': {'Ciudad': 'Zurich', 'Pais': 'Nombre pais', 'Continente': 'Nombre de continente'}, 'Lisboa': {'Ciudad': 'Lisboa', 'Pais': 'Nombre pais', 'Continente': 'Nombre de continente'}, 'Tokio': {'Ciudad': 'Tokio', 'Pais': 'Nombre pais', 'Continente': 'Nombre de continente'}, 'Berlín': {'Ciudad': 'Berlín', 'Pais': 'Nombre pais', 'Continente': 'Nombre de continente'}}\n"
     ]
    }
   ],
   "source": [
    "# Lista de ciudades\n",
    "ciudades = [\"Lima\", \"Buenos Aires\", \"Zurich\", \"Lisboa\", \"Tokio\", \"Berlín\"]\n",
    "\n",
    "diccionario = {}\n",
    "\n",
    "for ciu in ciudades:\n",
    "    diccionario[ciu]={\"Ciudad\":ciu,\"Pais\":\"Nombre pais\",\"Continente\":\"Nombre de continente\"}\n",
    "    \n",
    "    \n",
    "    \n",
    "print(diccionario)\n"
   ]
  },
  {
   "attachments": {},
   "cell_type": "markdown",
   "metadata": {},
   "source": [
    "24) Imprimir las claves del diccionario"
   ]
  },
  {
   "cell_type": "code",
   "execution_count": 59,
   "metadata": {},
   "outputs": [
    {
     "name": "stdout",
     "output_type": "stream",
     "text": [
      "dict_keys(['Lima', 'Buenos Aires', 'Zurich', 'Lisboa', 'Tokio', 'Berlín'])\n"
     ]
    }
   ],
   "source": [
    "claves=diccionario.keys()\n",
    "print(claves)"
   ]
  },
  {
   "attachments": {},
   "cell_type": "markdown",
   "metadata": {},
   "source": [
    "25) Imprimir las ciudades a través de su clave"
   ]
  },
  {
   "cell_type": "code",
   "execution_count": 60,
   "metadata": {},
   "outputs": [
    {
     "name": "stdout",
     "output_type": "stream",
     "text": [
      "Lima\n",
      "Buenos Aires\n",
      "Zurich\n",
      "Lisboa\n",
      "Tokio\n",
      "Berlín\n"
     ]
    }
   ],
   "source": [
    "for claves in diccionario:\n",
    "    print(diccionario[claves][\"Ciudad\"])"
   ]
  }
 ],
 "metadata": {
  "interpreter": {
   "hash": "c85384e4cb51c8b72350f3a8712cc8351fdc3955e32a27f9b60c6242ab125f01"
  },
  "kernelspec": {
   "display_name": "Python 3 (ipykernel)",
   "language": "python",
   "name": "python3"
  },
  "language_info": {
   "codemirror_mode": {
    "name": "ipython",
    "version": 3
   },
   "file_extension": ".py",
   "mimetype": "text/x-python",
   "name": "python",
   "nbconvert_exporter": "python",
   "pygments_lexer": "ipython3",
   "version": "3.11.6"
  }
 },
 "nbformat": 4,
 "nbformat_minor": 4
}
